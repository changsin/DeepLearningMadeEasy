{
  "nbformat": 4,
  "nbformat_minor": 0,
  "metadata": {
    "colab": {
      "name": "Untitled11.ipynb",
      "provenance": [],
      "authorship_tag": "ABX9TyO3DXKdMhG/BeeSS7pFCh9c",
      "include_colab_link": true
    },
    "kernelspec": {
      "name": "python3",
      "display_name": "Python 3"
    }
  },
  "cells": [
    {
      "cell_type": "markdown",
      "metadata": {
        "id": "view-in-github",
        "colab_type": "text"
      },
      "source": [
        "<a href=\"https://colab.research.google.com/github/changsin/DeepLearningMadeEasy/blob/main/03-simple-neural-network.ipynb\" target=\"_parent\"><img src=\"https://colab.research.google.com/assets/colab-badge.svg\" alt=\"Open In Colab\"/></a>"
      ]
    },
    {
      "cell_type": "markdown",
      "metadata": {
        "id": "T4RWoRKTyhbd"
      },
      "source": [
        "# Writing a Neural Network from Scratch\n",
        "\n",
        "   Machine Learning libraries like TensorFlow and PyTorch all have excellent ways of creating and training a model so you do not need to write your own neural network from scratch. However, writing a neural network gives you a solid understanding of how Deep Learning works because as complicated as the latest models might appear, the basic building blocks of all neural networks are simple artificial neural networks. The exercise will also equip you with better debugging skills for root causing problems with your models.\n",
        "\n",
        "   In the following exercise, let's take a simple neural network with a single hidden layer with four nodes and examine the steps in training it."
      ]
    },
    {
      "cell_type": "markdown",
      "metadata": {
        "id": "lqTTXHPPHJX-"
      },
      "source": [
        "\n",
        "## How to train a neural network\n",
        "Training a neural network consists of four steps:\n",
        "\n",
        "1. Calculate the activation\n",
        "2. Apply non-linearity\n",
        "3. Calculate the loss\n",
        "4. Backpropagate the errors\n",
        "\n",
        "Let's take each step in more detail.\n",
        "\n",
        "### 1. Activation\n",
        "\n",
        "The activation function applies some weights on the input data and add some bias. \n",
        "\n",
        "Z = Wx + b\n",
        "(W: weights x: input, b: bias)\n",
        "\n",
        "### 2. Apply non-linearity\n",
        "Let's use sigmoid for applying the non-linearity.\n",
        "\n",
        "A = sigmoid(Z)\n",
        "\n",
        "Note that there are many other non-linearity functions like tanh or relu. These are called 'activation functions' and often dented as 'A' (matrix)\n",
        "\n",
        "### 3. Cost\n",
        "The cost or the loss is the difference between the predicted and the actual (ground truth) target values. In our case, we are using MSE (Mean Squared Error) which is a quadratic function with a nice convex shape as illustrated below. The gradient descent operation will help us find the minimum cost.\n",
        "\n",
        "$$ C = \\frac{1}{N}\\Sigma_{i=1}^{N} (\\hat Y - Y)^2 $$\n",
        "\n",
        "$\\hat Y$: predicted values\n",
        "\n",
        "$Y$: ground truth"
      ]
    },
    {
      "cell_type": "code",
      "metadata": {
        "colab": {
          "base_uri": "https://localhost:8080/",
          "height": 282
        },
        "id": "W0Nn5FXn1r2n",
        "outputId": "04b35146-752f-4d00-a28a-004e017d7630"
      },
      "source": [
        "import numpy as np\n",
        "import matplotlib.pyplot as plt\n",
        "\n",
        "X = np.arange(-10, 11, 1)\n",
        "Y = X**2\n",
        "Y\n",
        "plt.plot(X, Y)\n"
      ],
      "execution_count": 14,
      "outputs": [
        {
          "output_type": "execute_result",
          "data": {
            "text/plain": [
              "[<matplotlib.lines.Line2D at 0x7f63cac0e050>]"
            ]
          },
          "metadata": {
            "tags": []
          },
          "execution_count": 14
        },
        {
          "output_type": "display_data",
          "data": {
            "image/png": "[encoded data removed]",
            "text/plain": [
              "<Figure size 432x288 with 1 Axes>"
            ]
          },
          "metadata": {
            "tags": [],
            "needs_background": "light"
          }
        }
      ]
    },
    {
      "cell_type": "markdown",
      "metadata": {
        "id": "Xj6Q6M9l6Ulr"
      },
      "source": [
        "### 4. Backpropagate\n",
        "\n",
        "Since the gradient points to the highest peak at the tangent line, you have to take the negative of the gradient and propagate the errors backward starting from the outer most layer.\n",
        "\n",
        "Mathematically, this can be done by calculating the Jacobian (a vector of partial derivatives) against the cost function. Since there are two variables (parameters) W (weights) and b (bias), you have to calculate the partial derivatives against the cost function C for each.\n",
        "\n",
        "\n"
      ]
    },
    {
      "cell_type": "markdown",
      "metadata": {
        "id": "KEBFV4TQKy5t"
      },
      "source": [
        "$$ \\mathbf{J}_{\\mathbf{W}^{(2)}} = \\frac{\\partial C}{\\partial \\mathbf{W}^{(2)}} $$\n",
        "$$ \\mathbf{J}_{\\mathbf{b}^{(2)}} = \\frac{\\partial C}{\\partial \\mathbf{b}^{(2)}} $$\n"
      ]
    },
    {
      "cell_type": "markdown",
      "metadata": {
        "id": "L6M4AFdeL48h"
      },
      "source": [
        "We cannot take a partial derivate on the cost function directly because there is no weight variable. Instead, we can apply the chain rule to calculate the partial derivatives."
      ]
    },
    {
      "cell_type": "markdown",
      "metadata": {
        "id": "c7GADDrTMCB0"
      },
      "source": [
        "For the weight:\n",
        "$$ \\frac{\\partial C}{\\partial \\mathbf{W}^{(2)}} =\n",
        "   \\frac{\\partial C}{\\partial \\mathbf{a}^{(2)}}\n",
        "   \\frac{\\partial \\mathbf{a}^{(2)}}{\\partial \\mathbf{z}^{(2)}}\n",
        "   \\frac{\\partial \\mathbf{z}^{(2)}}{\\partial \\mathbf{W}^{(2)}}\n",
        "   ,$$\n",
        "\n",
        "For the bias:\n",
        "$$ \\frac{\\partial C}{\\partial \\mathbf{b}^{(2)}} =\n",
        "   \\frac{\\partial C}{\\partial \\mathbf{a}^{(2)}}\n",
        "   \\frac{\\partial \\mathbf{a}^{(2)}}{\\partial \\mathbf{z}^{(2)}}\n",
        "   \\frac{\\partial \\mathbf{z}^{(2)}}{\\partial \\mathbf{b}^{(2)}}\n",
        "   .$$\n"
      ]
    },
    {
      "cell_type": "markdown",
      "metadata": {
        "id": "Nu4wJRY3O9Lp"
      },
      "source": [
        "Below is the full code that implements the formulae. It was written for illustration purposes without concerns about brevity or optimization."
      ]
    },
    {
      "cell_type": "markdown",
      "metadata": {
        "id": "bRhbdh0DQ5Ew"
      },
      "source": [
        "## Implementation"
      ]
    },
    {
      "cell_type": "code",
      "metadata": {
        "id": "pAUn4Oeeyfie"
      },
      "source": [
        "import math\n",
        "import numpy as np\n",
        "import matplotlib.pyplot as plt\n",
        "\n",
        "def sigmoid(z):\n",
        "    return 1 / (1 + np.exp(-z))\n",
        "\n",
        "def d_sigmoid(z):\n",
        "    return sigmoid(z) * (1.0 - sigmoid(z))\n",
        "\n",
        "class SingleLayerNetwork:\n",
        "  def __init__(self, input_size, hidden_size, output_size):\n",
        "    self.weights1 = np.random.rand(hidden_size, input_size)\n",
        "    self.weights2 = np.random.rand(output_size, hidden_size)\n",
        "    self.bias1 = np.random.rand(hidden_size, 1)\n",
        "    self.bias2 = np.random.rand(output_size, 1)\n",
        "\n",
        "    # outputs from each layer - the output of the activation function\n",
        "    self.a1 = np.random.rand(hidden_size)\n",
        "    self.a2 = np.random.rand(output_size)\n",
        "\n",
        "    # activations for each layer\n",
        "    self.z1 = np.random.rand(hidden_size)\n",
        "    self.z2 = np.random.rand(output_size)\n",
        "\n",
        "  def activate(self, z):\n",
        "    return sigmoid(z)\n",
        "\n",
        "  def d_activate(self, z):\n",
        "    return d_sigmoid(z)\n",
        "\n",
        "  def loss(self, y_true, y_pred):\n",
        "    # the loss function is squared error\n",
        "    return (y_pred - y_true) ** 2\n",
        "  \n",
        "  def predict(self, x):\n",
        "    return self.forward_pass(x)\n",
        "\n",
        "  def fit(self, x, y, epoch=10):\n",
        "    costs = list()\n",
        "    for e in range(epoch):\n",
        "      y_pred = self.forward_pass(x)\n",
        "      self.backward_pass(x, y, y_pred)\n",
        "\n",
        "      cost = self.loss(y, y_pred).mean()\n",
        "      costs.append(cost)\n",
        "\n",
        "    return costs\n",
        "  \n",
        "  def forward_pass(self, x):\n",
        "    # input to the activation function\n",
        "    print(\"W:{}\".format(self.weights1.shape))\n",
        "    self.z1 = np.dot(self.weights1, x.T)\n",
        "    self.a1 = self.activate(self.z1)\n",
        "\n",
        "    # hidden to output layer\n",
        "    self.z2 = self.weights2.dot(self.a1) + self.bias2\n",
        "    self.a2 = self.activate(self.z2)\n",
        "    # print(\"            = a2:{}\".format(self.a2.shape))\n",
        "    return self.a2\n",
        "\n",
        "  def backward_pass(self, x, y, y_pred):\n",
        "    # application of the chain rule on\n",
        "    # dC/dA2 * dA2/dZ2 * dZ2/dW2\n",
        "    # C = (Y_pred - Y)**2\n",
        "    # dC/dA2 = 2 * (A - Y)\n",
        "    d_cost = 2 * (y_pred - y)\n",
        "    # A2 = activate(Z2) = sigmoid(Z2)\n",
        "    # dA2/dZ2 = d_activate(Z2) = d_sigmoid(Z2)\n",
        "    d_a2 = self.d_activate(self.z2)\n",
        "\n",
        "    # Z2 = W2.A1 + b2\n",
        "    # dZ2/dW2 = A1 - output from the hidden layer\n",
        "    d_z2 = self.a1\n",
        "    # this value is used again so save it as a separate variable\n",
        "    d_delta2 = d_cost * d_a2\n",
        "\n",
        "    # Now assign the delatas to update for the weights and biases\n",
        "    d_weights2 = np.dot(d_delta2, d_z2.T)\n",
        "    # since dz/db = 1 \n",
        "    d_bias2 = np.sum(d_delta2, axis=1, keepdims=True)/x.shape[0]\n",
        "    \n",
        "    # propagate to the next layer\n",
        "    d_prev = np.dot(self.weights2.T, d_delta2)\n",
        "    d_delta1 = d_prev * self.d_activate(self.a1)\n",
        "    d_weights1 = np.dot(d_delta1, x)\n",
        "    d_bias1 = np.sum(d_delta1, axis=1, keepdims=True)/x.shape[0]\n",
        "\n",
        "    # now update the weights and biases\n",
        "    self.weights2 = self.weights2 - d_weights2\n",
        "    self.weights1 = self.weights1 - d_weights1\n",
        "\n",
        "    self.bias2 = self.bias2 - d_bias2\n",
        "    self.bias1 = self.bias1 - d_bias1"
      ],
      "execution_count": 1,
      "outputs": []
    },
    {
      "cell_type": "markdown",
      "metadata": {
        "id": "1P9_YZ_rQk3b"
      },
      "source": [
        "## Training Data\n",
        "For the training data, let's use XOR (exclusive-or) data."
      ]
    },
    {
      "cell_type": "code",
      "metadata": {
        "colab": {
          "base_uri": "https://localhost:8080/"
        },
        "id": "SVE7Vjo4OPXo",
        "outputId": "d24cad0f-858f-407a-bc92-88e7044d747d"
      },
      "source": [
        "X = np.array([[1, 0],\n",
        "              [1, 1],\n",
        "              [0, 0],\n",
        "              [0, 1]])\n",
        "Y = np.array([1, 0, 0, 1])\n",
        "sample_x = np.array([[1, 0]])\n",
        "X.shape"
      ],
      "execution_count": 2,
      "outputs": [
        {
          "output_type": "execute_result",
          "data": {
            "text/plain": [
              "(4, 2)"
            ]
          },
          "metadata": {
            "tags": []
          },
          "execution_count": 2
        }
      ]
    },
    {
      "cell_type": "markdown",
      "metadata": {
        "id": "E-jOy5okQ2-9"
      },
      "source": [
        "## Test\n",
        "Let's take the default epoch as the training iteration and predict one value at the end."
      ]
    },
    {
      "cell_type": "code",
      "metadata": {
        "colab": {
          "base_uri": "https://localhost:8080/",
          "height": 486
        },
        "id": "Bf7MuYYHDHue",
        "outputId": "f4e7dfa4-03c7-4646-fcd2-bb2eaabb1792"
      },
      "source": [
        "EPOCH = 10\n",
        "nn = SingleLayerNetwork(2, 4, 1)\n",
        "\n",
        "errors = nn.fit(X, Y, EPOCH)\n",
        "\n",
        "p = nn.predict(np.array([[1, 0]]))\n",
        "print(\"prediction: {}\".format(p))\n",
        "\n",
        "plt.plot(range(EPOCH), errors)"
      ],
      "execution_count": 3,
      "outputs": [
        {
          "output_type": "stream",
          "text": [
            "W:(4, 2)\n",
            "W:(4, 2)\n",
            "W:(4, 2)\n",
            "W:(4, 2)\n",
            "W:(4, 2)\n",
            "W:(4, 2)\n",
            "W:(4, 2)\n",
            "W:(4, 2)\n",
            "W:(4, 2)\n",
            "W:(4, 2)\n",
            "W:(4, 2)\n",
            "prediction: [[0.50419881]]\n"
          ],
          "name": "stdout"
        },
        {
          "output_type": "execute_result",
          "data": {
            "text/plain": [
              "[<matplotlib.lines.Line2D at 0x7fd44aea7f10>]"
            ]
          },
          "metadata": {
            "tags": []
          },
          "execution_count": 3
        },
        {
          "output_type": "display_data",
          "data": {
            "image/png": "[encoded data removed]",
            "text/plain": [
              "<Figure size 432x288 with 1 Axes>"
            ]
          },
          "metadata": {
            "tags": [],
            "needs_background": "light"
          }
        }
      ]
    },
    {
      "cell_type": "markdown",
      "metadata": {
        "id": "hWvzZHnZSGVD"
      },
      "source": [
        "## Other Data\n",
        "The same network can be used for training other types of data. The following code is a slight modification from\n",
        "[adeveloperdiary](http://www.adeveloperdiary.com/data-science/machine-learning/understand-and-implement-the-backpropagation-algorithm-from-scratch-in-python/?unapproved=3289&moderation-hash=e30be44173f13aab3600e3f6a1396ba6#comment-3289)"
      ]
    },
    {
      "cell_type": "code",
      "metadata": {
        "id": "1q6HXl0ASvwK"
      },
      "source": [
        "import numpy as np\n",
        "from tensorflow.keras.datasets import mnist\n",
        "# import datasets.mnist.loader as mnist\n",
        "from tensorflow.keras.utils import to_categorical\n",
        "import matplotlib.pylab as plt\n",
        "\n",
        "def get_binary_dataset():\n",
        "    # train_x_orig, train_y_orig, test_x_orig, test_y_orig = mnist.get_data()\n",
        "    (train_x_orig, train_y_orig), (test_x_orig, test_y_orig) = mnist.load_data()\n",
        " \n",
        "    index_5 = np.where(train_y_orig == 5)\n",
        "    index_8 = np.where(train_y_orig == 8)\n",
        "\n",
        "    index = np.concatenate([index_5[0], index_8[0]])\n",
        "    np.random.seed(1)\n",
        "    np.random.shuffle(index)\n",
        "  \n",
        "    train_y = train_y_orig[index]\n",
        "    # train_x = train_x_orig[index]\n",
        "    # print(type(train_x_orig))\n",
        "    train_x = np.array([train_x_orig[id].flatten() for id in index])\n",
        "    # train_x = np.array(train_x)\n",
        "    # print(\"{} {}\".format(train_x.shape, train_x))\n",
        " \n",
        "    train_y[np.where(train_y == 5)] = 0\n",
        "    train_y[np.where(train_y == 8)] = 1\n",
        " \n",
        "    index_5 = np.where(test_y_orig == 5)\n",
        "    index_8 = np.where(test_y_orig == 8)\n",
        " \n",
        "    index = np.concatenate([index_5[0], index_8[0]])\n",
        "    np.random.shuffle(index)\n",
        " \n",
        "    test_y = test_y_orig[index]\n",
        "    # test_x = test_x_orig[index]\n",
        "    test_x = np.array([test_x_orig[id].flatten() for id in index])\n",
        " \n",
        "    test_y[np.where(test_y == 5)] = 0\n",
        "    test_y[np.where(test_y == 8)] = 1\n",
        " \n",
        "    return train_x, train_y, test_x, test_y\n",
        " \n",
        "def pre_process_data(train_x, test_x):\n",
        "    # Normalize\n",
        "    train_x = train_x / 255.\n",
        "    test_x = test_x / 255.\n",
        " \n",
        "    return train_x, test_x\n",
        " \n",
        " \n",
        "train_x, train_y, test_x, test_y = get_binary_dataset()\n",
        "\n",
        "train_x, test_x = pre_process_data(train_x, test_x)\n"
      ],
      "execution_count": 4,
      "outputs": []
    },
    {
      "cell_type": "code",
      "metadata": {
        "colab": {
          "base_uri": "https://localhost:8080/"
        },
        "id": "cGG8Jk-LCo-Q",
        "outputId": "d43d11d3-2b9b-47c0-b85f-0a5c95f9e40d"
      },
      "source": [
        "nn = SingleLayerNetwork(784, 4, 1)\n",
        "\n",
        "errors = nn.fit(train_x, train_y)\n",
        "nn.predict(np.array(test_x[0:1]))"
      ],
      "execution_count": 8,
      "outputs": [
        {
          "output_type": "stream",
          "text": [
            "W:(4, 784)\n",
            "W:(4, 784)\n",
            "W:(4, 784)\n",
            "W:(4, 784)\n"
          ],
          "name": "stdout"
        },
        {
          "output_type": "stream",
          "text": [
            "/usr/local/lib/python3.7/dist-packages/ipykernel_launcher.py:6: RuntimeWarning: overflow encountered in exp\n",
            "  \n"
          ],
          "name": "stderr"
        },
        {
          "output_type": "stream",
          "text": [
            "W:(4, 784)\n",
            "W:(4, 784)\n",
            "W:(4, 784)\n",
            "W:(4, 784)\n",
            "W:(4, 784)\n",
            "W:(4, 784)\n",
            "W:(4, 784)\n"
          ],
          "name": "stdout"
        },
        {
          "output_type": "execute_result",
          "data": {
            "text/plain": [
              "array([[0.50833409]])"
            ]
          },
          "metadata": {
            "tags": []
          },
          "execution_count": 8
        }
      ]
    },
    {
      "cell_type": "code",
      "metadata": {
        "id": "Fd3zA5xcIkWu"
      },
      "source": [
        "import numpy as np\n",
        "from tensorflow.keras.datasets import mnist\n",
        "# import datasets.mnist.loader as mnist\n",
        "from tensorflow.keras.utils import to_categorical\n",
        "import matplotlib.pylab as plt\n",
        " \n",
        "class ANN:\n",
        "    def __init__(self, layers_size):\n",
        "        self.layers_size = layers_size\n",
        "        self.parameters = {}\n",
        "        self.L = len(self.layers_size)\n",
        "        self.n = 0\n",
        "        self.costs = []\n",
        " \n",
        "    def sigmoid(self, Z):\n",
        "        return 1 / (1 + np.exp(-Z))\n",
        " \n",
        "    def initialize_parameters(self):\n",
        "        np.random.seed(1)\n",
        " \n",
        "        for l in range(1, len(self.layers_size)):\n",
        "            self.parameters[\"W\" + str(l)] = np.random.randn(self.layers_size[l], self.layers_size[l - 1]) / np.sqrt(\n",
        "                self.layers_size[l - 1])\n",
        "            self.parameters[\"b\" + str(l)] = np.zeros((self.layers_size[l], 1))\n",
        "            # print(\"{} W: {} b: {}\".format(\n",
        "            #     l, self.parameters[\"W\" + str(l)].shape, self.parameters[\"b\" + str(l)].shape))\n",
        " \n",
        "    def forward(self, X):\n",
        "        store = {}\n",
        " \n",
        "        A = X.T\n",
        "        for l in range(self.L - 1):\n",
        "            print(\"    {}: W:{}.A:{} + b:{} = \".format(l,\n",
        "                                                          self.parameters[\"W\" + str(l + 1)].shape,\n",
        "                                                          A.shape,\n",
        "                                                          self.parameters[\"b\" + str(l + 1)].shape))\n",
        "            Z = self.parameters[\"W\" + str(l + 1)].dot(A) + self.parameters[\"b\" + str(l + 1)]\n",
        "            A = self.sigmoid(Z)\n",
        "            store[\"A\" + str(l + 1)] = A\n",
        "            store[\"W\" + str(l + 1)] = self.parameters[\"W\" + str(l + 1)]\n",
        "            store[\"Z\" + str(l + 1)] = Z\n",
        "            print(\"                      = Z:{}\".format(Z.shape))\n",
        " \n",
        "            # print(\"    f - {} W: {} A: {} Z: {}\".format(l, self.parameters[\"W\" + str(l + 1)].shape,\n",
        "            #                           A.shape, Z.shape))\n",
        "\n",
        "        Z = self.parameters[\"W\" + str(self.L)].dot(A) + self.parameters[\"b\" + str(self.L)]\n",
        "        # print(\"ff: W:{}.A:{} + b:{} = Z:{}\".format(self.parameters[\"W\" + str(self.L)].shape,\n",
        "        #                                               A.shape,\n",
        "        #                                               self.parameters[\"b\" + str(self.L)].shape,\n",
        "        #                                               Z.shape))\n",
        "        A = self.sigmoid(Z)\n",
        "        # print(\"ff: A after sigmoid: {}\".format(A.shape))\n",
        "        # print(\"ff - {} W: {} Z: {} A: {}\".format(self.L,\n",
        "        #                               self.parameters[\"W\" + str(self.L)].shape,\n",
        "        #                               Z.shape,\n",
        "        #                               A.shape))\n",
        "        store[\"A\" + str(self.L)] = A\n",
        "        store[\"W\" + str(self.L)] = self.parameters[\"W\" + str(self.L)]\n",
        "        store[\"Z\" + str(self.L)] = Z\n",
        " \n",
        "        return A, store\n",
        " \n",
        "    def sigmoid_derivative(self, Z):\n",
        "        s = 1 / (1 + np.exp(-Z))\n",
        "        return s * (1 - s)\n",
        " \n",
        "    def backward(self, X, Y, store):\n",
        " \n",
        "        derivatives = {}\n",
        " \n",
        "        store[\"A0\"] = X.T\n",
        " \n",
        "        A = store[\"A\" + str(self.L)]\n",
        "        dA = -np.divide(Y, A) + np.divide(1 - Y, 1 - A)\n",
        " \n",
        "        dZ = dA * self.sigmoid_derivative(store[\"Z\" + str(self.L)])\n",
        "        dW = dZ.dot(store[\"A\" + str(self.L - 1)].T) / self.n\n",
        "        db = np.sum(dZ, axis=1, keepdims=True) / self.n\n",
        "        dAPrev = store[\"W\" + str(self.L)].T.dot(dZ)\n",
        "\n",
        "        # print(\"dZ: {} x dA: {} dW: {} db: {} dAPrev: {}\".format(\n",
        "        #     dZ.shape, store[\"A\" + str(self.L - 1)].shape, dW.shape, db.shape, dAPrev.shape))\n",
        "\n",
        "        derivatives[\"dW\" + str(self.L)] = dW\n",
        "        derivatives[\"db\" + str(self.L)] = db\n",
        " \n",
        "        for l in range(self.L - 1, 0, -1):\n",
        "            # print(\"aAPrev: {} d_sigmoid: {} W: {} dZ: {}\".format(dAPrev.shape,\n",
        "            #     self.sigmoid_derivative(store[\"Z\" + str(l)]).shape,\n",
        "            #     store[\"W\" + str(self.L)].shape, dZ.shape))\n",
        "            dZ = dAPrev * self.sigmoid_derivative(store[\"Z\" + str(l)])\n",
        "            dW = 1. / self.n * dZ.dot(store[\"A\" + str(l - 1)].T)\n",
        "            db = 1. / self.n * np.sum(dZ, axis=1, keepdims=True)\n",
        "            if l > 1:\n",
        "                dAPrev = store[\"W\" + str(l)].T.dot(dZ)\n",
        " \n",
        "            derivatives[\"dW\" + str(l)] = dW\n",
        "            derivatives[\"db\" + str(l)] = db\n",
        " \n",
        "        return derivatives\n",
        " \n",
        "    def fit(self, X, Y, learning_rate=0.01, n_iterations=2500):\n",
        "        np.random.seed(1)\n",
        " \n",
        "        self.n = X.shape[0]\n",
        " \n",
        "        self.layers_size.insert(0, X.shape[1])\n",
        " \n",
        "        self.initialize_parameters()\n",
        "        for loop in range(n_iterations):\n",
        "            A, store = self.forward(X)\n",
        "            cost = np.squeeze(-(Y.dot(np.log(A.T)) + (1 - Y).dot(np.log(1 - A.T))) / self.n)\n",
        "            derivatives = self.backward(X, Y, store)\n",
        " \n",
        "            for l in range(1, self.L + 1):\n",
        "                self.parameters[\"W\" + str(l)] = self.parameters[\"W\" + str(l)] - learning_rate * derivatives[\n",
        "                    \"dW\" + str(l)]\n",
        "                self.parameters[\"b\" + str(l)] = self.parameters[\"b\" + str(l)] - learning_rate * derivatives[\n",
        "                    \"db\" + str(l)]\n",
        " \n",
        "            if loop % 100 == 0:\n",
        "                self.costs.append(cost)\n",
        " \n",
        "    def predict(self, X, Y):\n",
        "        A, cache = self.forward(X)\n",
        "        n = X.shape[0]\n",
        "        p = np.zeros((1, n))\n",
        "\n",
        "        # print(\"predict - A.shape: {} X.shape: {} n: {}\".format(A.shape, X.shape, n))\n",
        "        # print(\"predict - A.shape[1]: {} p.shape: {}\".format(A.shape[1], p.shape))\n",
        " \n",
        "        for i in range(0, A.shape[1]):\n",
        "            if A[0, i] > 0.5:\n",
        "                p[0, i] = 1\n",
        "            else:\n",
        "                p[0, i] = 0\n",
        " \n",
        "        print(\"Accuracy: \" + str(np.sum((p == Y) / n)))\n",
        " \n",
        "    def plot_cost(self):\n",
        "        plt.figure()\n",
        "        plt.plot(np.arange(len(self.costs)), self.costs)\n",
        "        plt.xlabel(\"epochs\")\n",
        "        plt.ylabel(\"cost\")\n",
        "        plt.show()\n",
        " \n"
      ],
      "execution_count": 37,
      "outputs": []
    },
    {
      "cell_type": "code",
      "metadata": {
        "colab": {
          "base_uri": "https://localhost:8080/",
          "height": 721
        },
        "id": "WFxtWNbzfx3b",
        "outputId": "7ba71de1-8f1f-46fa-df14-19a00ed71ddc"
      },
      "source": [
        "# NUM_OF_CLASSES = 10\n",
        "# (train_x, train_y), (test_x, test_y) = mnist.load_data()\n",
        "# train_x, test_x = train_x / 255.0, test_x / 255.0\n",
        "\n",
        "# train_y = to_categorical(train_y, NUM_OF_CLASSES)\n",
        "# test_y = to_categorical(test_y, NUM_OF_CLASSES)\n",
        "\n",
        "# print(\"train_x's shape: \" + str(train_x.shape))\n",
        "# print(\"test_x's shape: \" + str(test_x.shape))\n",
        "\n",
        "layers_dims = [4, 1]\n",
        "\n",
        "ann = ANN(layers_dims)\n",
        "ann.fit(train_x, train_y, learning_rate=0.1, n_iterations=10)\n",
        "ann.predict(train_x, train_y)\n",
        "ann.predict(test_x, test_y)\n",
        "ann.plot_cost()"
      ],
      "execution_count": 39,
      "outputs": [
        {
          "output_type": "stream",
          "text": [
            "    0: W:(4, 784).A:(784, 11272) + b:(4, 1) = \n",
            "                      = Z:(4, 11272)\n",
            "    0: W:(4, 784).A:(784, 11272) + b:(4, 1) = \n",
            "                      = Z:(4, 11272)\n",
            "    0: W:(4, 784).A:(784, 11272) + b:(4, 1) = \n",
            "                      = Z:(4, 11272)\n",
            "    0: W:(4, 784).A:(784, 11272) + b:(4, 1) = \n",
            "                      = Z:(4, 11272)\n",
            "    0: W:(4, 784).A:(784, 11272) + b:(4, 1) = \n",
            "                      = Z:(4, 11272)\n",
            "    0: W:(4, 784).A:(784, 11272) + b:(4, 1) = \n",
            "                      = Z:(4, 11272)\n",
            "    0: W:(4, 784).A:(784, 11272) + b:(4, 1) = \n",
            "                      = Z:(4, 11272)\n",
            "    0: W:(4, 784).A:(784, 11272) + b:(4, 1) = \n",
            "                      = Z:(4, 11272)\n",
            "    0: W:(4, 784).A:(784, 11272) + b:(4, 1) = \n",
            "                      = Z:(4, 11272)\n",
            "    0: W:(4, 784).A:(784, 11272) + b:(4, 1) = \n",
            "                      = Z:(4, 11272)\n",
            "    0: W:(4, 784).A:(784, 11272) + b:(4, 1) = \n",
            "                      = Z:(4, 11272)\n",
            "Accuracy: 0.5190738112136266\n",
            "    0: W:(4, 784).A:(784, 1866) + b:(4, 1) = \n",
            "                      = Z:(4, 1866)\n",
            "Accuracy: 0.5219721329046088\n"
          ],
          "name": "stdout"
        },
        {
          "output_type": "display_data",
          "data": {
            "image/png": "[encoded data removed]",
            "text/plain": [
              "<Figure size 432x288 with 1 Axes>"
            ]
          },
          "metadata": {
            "tags": [],
            "needs_background": "light"
          }
        }
      ]
    },
    {
      "cell_type": "code",
      "metadata": {
        "colab": {
          "base_uri": "https://localhost:8080/",
          "height": 296
        },
        "id": "BAEwp_RRmaH1",
        "outputId": "f21c1c34-9a24-40d1-b58d-aa57447a1e2e"
      },
      "source": [
        "layers_dims = [4, 1]\n",
        "\n",
        "ann = ANN(layers_dims)\n",
        "ann.fit(train_x, train_y, learning_rate=0.1, n_iterations=5)\n",
        "# ann.predict(train_x, train_y)\n",
        "ann.predict(np.array(test_x[0:1]), np.array(test_y[0:1]))\n",
        "ann.plot_cost()"
      ],
      "execution_count": 36,
      "outputs": [
        {
          "output_type": "stream",
          "text": [
            "Accuracy: 1.0\n"
          ],
          "name": "stdout"
        },
        {
          "output_type": "display_data",
          "data": {
            "image/png": "[encoded data removed]",
            "text/plain": [
              "<Figure size 432x288 with 1 Axes>"
            ]
          },
          "metadata": {
            "tags": [],
            "needs_background": "light"
          }
        }
      ]
    },
    {
      "cell_type": "code",
      "metadata": {
        "colab": {
          "base_uri": "https://localhost:8080/"
        },
        "id": "mMGv0GBidYET",
        "outputId": "69cd8b0e-def2-4c8f-a577-2a088455cb3d"
      },
      "source": [
        "M1 = np.array([[1, 1], [2, 2]])\n",
        "M2 = np.array([[0, 0, 0.5],\n",
        "               [1, 1, 1]])\n",
        "M1.shape\n",
        "M2.shape\n",
        "# M1.dot(M2)\n"
      ],
      "execution_count": 207,
      "outputs": [
        {
          "output_type": "execute_result",
          "data": {
            "text/plain": [
              "(2, 3)"
            ]
          },
          "metadata": {
            "tags": []
          },
          "execution_count": 207
        }
      ]
    },
    {
      "cell_type": "code",
      "metadata": {
        "colab": {
          "base_uri": "https://localhost:8080/"
        },
        "id": "d5x-2LP5mZ02",
        "outputId": "4d6efb52-16d1-473d-872b-02e1ee245c55"
      },
      "source": [
        "np.dot(M1, M2)"
      ],
      "execution_count": 118,
      "outputs": [
        {
          "output_type": "execute_result",
          "data": {
            "text/plain": [
              "array([[1. , 1. , 1.5],\n",
              "       [2. , 2. , 3. ]])"
            ]
          },
          "metadata": {
            "tags": []
          },
          "execution_count": 118
        }
      ]
    }
  ]
}